{
 "cells": [
  {
   "cell_type": "code",
   "execution_count": 300,
   "metadata": {},
   "outputs": [],
   "source": [
    "#Case1\n",
    "# A certain fruit grower in Florida has a boxcar loaded with fruit ready to be shipped north.\n",
    "# The load consits of 900 boxes or oranges, 700 boxes of grapefruit, and 400 boxes of Tangerines\n",
    "# The market prices, per box, of the different types of fruit in various cities are given\n",
    "# in the Data Frame below.(Shipment)\n",
    "\n",
    "# This example comes from:  An Introduction to Matrices Vectors and Linear Programming \n",
    "# by Hugh G. Campbell, page 13\n",
    "\n",
    "\n",
    "import pandas as pd\n",
    "import numpy as np\n",
    "import matplotlib.pyplot as plt\n",
    "from pandas import Series, DataFrame"
   ]
  },
  {
   "cell_type": "code",
   "execution_count": 301,
   "metadata": {},
   "outputs": [
    {
     "name": "stdout",
     "output_type": "stream",
     "text": [
      "[[4 2 3]\n",
      " [5 1 2]\n",
      " [4 3 2]\n",
      " [3 2 5]]\n"
     ]
    }
   ],
   "source": [
    "Shipment = np.array([\n",
    "    [4,2,3],\n",
    "    [5,1,2],\n",
    "    [4,3,2],\n",
    "    [3,2,5]\n",
    "])\n",
    "print(Shipment)"
   ]
  },
  {
   "cell_type": "code",
   "execution_count": 302,
   "metadata": {},
   "outputs": [
    {
     "name": "stdout",
     "output_type": "stream",
     "text": [
      "              oranges  grapefruit  tangerines\n",
      "NewYork             4           2           3\n",
      "Cleveland           5           1           2\n",
      "StLouis             4           3           2\n",
      "OklahomaCity        3           2           5\n"
     ]
    }
   ],
   "source": [
    "Cities =pd.DataFrame(Shipment,columns = ['oranges', 'grapefruit','tangerines'],index = ['NewYork','Cleveland','StLouis','OklahomaCity'])\n",
    "print(Cities)"
   ]
  },
  {
   "cell_type": "code",
   "execution_count": 303,
   "metadata": {},
   "outputs": [],
   "source": [
    "Vessel = np.array([900,700,400])\n",
    "Vessel =Vessel.reshape(Vessel.shape[0],1)"
   ]
  },
  {
   "cell_type": "code",
   "execution_count": 304,
   "metadata": {},
   "outputs": [
    {
     "name": "stdout",
     "output_type": "stream",
     "text": [
      "            boxes\n",
      "oranges       900\n",
      "grapefruit    700\n",
      "tangerines    400\n"
     ]
    }
   ],
   "source": [
    "Bx = pd.DataFrame(Vessel,columns=['boxes'], index = ['oranges','grapefruit','tangerines'])\n",
    "print(Bx)"
   ]
  },
  {
   "cell_type": "code",
   "execution_count": 305,
   "metadata": {},
   "outputs": [],
   "source": [
    "# The question asked: To which city should the carload of fruit be sent \n",
    "# in order for the grower to get maximum gross receipts for his fruit?"
   ]
  },
  {
   "cell_type": "code",
   "execution_count": 306,
   "metadata": {},
   "outputs": [],
   "source": [
    "# We know how many boxes of each fruit we have and the prices per box for each city.\n",
    "# So, we multiple the two matrices to see how much possible income we can receive from each city."
   ]
  },
  {
   "cell_type": "code",
   "execution_count": 307,
   "metadata": {},
   "outputs": [
    {
     "name": "stdout",
     "output_type": "stream",
     "text": [
      "              oranges  grapefruit  tangerines\n",
      "NewYork          3600        1400        1200\n",
      "Cleveland        4500         700         800\n",
      "StLouis          3600        2100         800\n",
      "OklahomaCity     2700        1400        2000\n"
     ]
    }
   ],
   "source": [
    "# Middle Matrix to find out possible income from all loctions\n",
    "MiddleMatrix = (Cities[0:] * Bx.boxes)\n",
    "print(MiddleMatrix)"
   ]
  },
  {
   "cell_type": "code",
   "execution_count": 308,
   "metadata": {},
   "outputs": [
    {
     "name": "stdout",
     "output_type": "stream",
     "text": [
      "              boxes\n",
      "NewYork        6200\n",
      "Cleveland      6000\n",
      "StLouis        6500\n",
      "OklahomaCity   6100\n"
     ]
    }
   ],
   "source": [
    "# The answer would be the city that reports the highest amount of income. \n",
    "# We can add each element in the Middle Matrix or we can simply use the .dot notation multiplication.\n",
    "\n",
    "IncomeMatrix = pd.DataFrame(Cities.dot(Bx) )\n",
    "print(IncomeMatrix)"
   ]
  },
  {
   "cell_type": "code",
   "execution_count": 309,
   "metadata": {},
   "outputs": [
    {
     "name": "stdout",
     "output_type": "stream",
     "text": [
      "         boxes\n",
      "StLouis   6500\n"
     ]
    }
   ],
   "source": [
    "# Answer to the question would be the city from the highest possible income returned\n",
    "print(IncomeMatrix[IncomeMatrix.boxes == IncomeMatrix.boxes.max()])"
   ]
  },
  {
   "cell_type": "code",
   "execution_count": 310,
   "metadata": {},
   "outputs": [
    {
     "name": "stdout",
     "output_type": "stream",
     "text": [
      "boxes    StLouis\n",
      "dtype: object\n"
     ]
    }
   ],
   "source": [
    "# this is the same answer but return only City\n",
    "print(IncomeMatrix[['boxes']].idxmax()) "
   ]
  },
  {
   "cell_type": "code",
   "execution_count": 311,
   "metadata": {},
   "outputs": [
    {
     "data": {
      "image/png": "[encoded data removed]",
      "text/plain": [
       "<Figure size 432x288 with 1 Axes>"
      ]
     },
     "metadata": {
      "needs_background": "light"
     },
     "output_type": "display_data"
    }
   ],
   "source": [
    "# From the bar chart, you can see that St. Louis would bring in the most income.\n",
    "data1 = IncomeMatrix.boxes\n",
    "plt.bar(['NewYork','Cleveland','StLouis','OklahomaCity'],data1)\n",
    "plt.title('Total Possible Sales of Fruit per City')\n",
    "plt.grid(color='#95a5a6', linestyle='--', linewidth=2, axis='y', alpha=0.7)\n",
    "plt.show()\n",
    "\n"
   ]
  },
  {
   "cell_type": "code",
   "execution_count": 312,
   "metadata": {},
   "outputs": [
    {
     "name": "stdout",
     "output_type": "stream",
     "text": [
      "oranges       3600\n",
      "grapefruit    1400\n",
      "tangerines    1200\n",
      "Name: NewYork, dtype: int32\n"
     ]
    }
   ],
   "source": [
    "# From the same logic, \n",
    "#Find out how much income we would receive for shipping only to New York\n",
    "\n",
    "print(MiddleMatrix.loc['NewYork'])\n",
    "\n"
   ]
  },
  {
   "cell_type": "code",
   "execution_count": 313,
   "metadata": {},
   "outputs": [
    {
     "name": "stdout",
     "output_type": "stream",
     "text": [
      "NewYork         3600\n",
      "Cleveland       4500\n",
      "StLouis         3600\n",
      "OklahomaCity    2700\n",
      "Name: oranges, dtype: int32\n"
     ]
    }
   ],
   "source": [
    "#Show all possible income from Oranges only\n",
    "print(MiddleMatrix.oranges)"
   ]
  },
  {
   "cell_type": "code",
   "execution_count": 317,
   "metadata": {},
   "outputs": [
    {
     "data": {
      "image/png": "[encoded data removed]",
      "text/plain": [
       "<Figure size 432x288 with 1 Axes>"
      ]
     },
     "metadata": {
      "needs_background": "light"
     },
     "output_type": "display_data"
    }
   ],
   "source": [
    "# Although St.Louis would bring in the most income, oranges would sell best in Cleveland.\n",
    "plt.bar(['NewYork','Cleveland','StLouis','OklahomaCity'],MiddleMatrix.oranges,color = 'orange')\n",
    "plt.title(\"Oranges Sales per City\")\n",
    "plt.show()"
   ]
  },
  {
   "cell_type": "code",
   "execution_count": 314,
   "metadata": {},
   "outputs": [
    {
     "name": "stdout",
     "output_type": "stream",
     "text": [
      "NewYork         1400\n",
      "Cleveland        700\n",
      "StLouis         2100\n",
      "OklahomaCity    1400\n",
      "Name: grapefruit, dtype: int32\n"
     ]
    }
   ],
   "source": [
    "#Show all possible income from grapefruit\n",
    "print(MiddleMatrix.grapefruit)"
   ]
  },
  {
   "cell_type": "code",
   "execution_count": 299,
   "metadata": {},
   "outputs": [
    {
     "data": {
      "image/png": "[encoded data removed]",
      "text/plain": [
       "<Figure size 432x288 with 1 Axes>"
      ]
     },
     "metadata": {
      "needs_background": "light"
     },
     "output_type": "display_data"
    }
   ],
   "source": [
    "# From the chart below, we can see that oranges would bring in the most income than any of the other fruit.\n",
    "# We can also see that the people in Oklahoma City like tangerines almost as much as people like \n",
    "# grapefruits in St.Louis. People in Cleveland love oranges but not grapefruit that much.\n",
    "\n",
    " \n",
    "n = 4\n",
    "data1 = MiddleMatrix.oranges\n",
    "data2 = MiddleMatrix.grapefruit\n",
    "data3 = MiddleMatrix.tangerines\n",
    "\n",
    "ind = np.arange(n) \n",
    "width = 0.35       \n",
    "plt.bar(ind, data1, width, label='Oranges')\n",
    "plt.bar(ind + width, data2, width,label='Grapefruit')\n",
    "plt.bar(ind + width, data3, width,label='Tangerines')\n",
    "\n",
    "plt.xticks(ind + width , ('NewYork','Cleveland','StLouis','OklahomaCity'))\n",
    "plt.legend(loc='best')\n",
    "plt.show()\n"
   ]
  },
  {
   "cell_type": "code",
   "execution_count": null,
   "metadata": {},
   "outputs": [],
   "source": []
  }
 ],
 "metadata": {
  "kernelspec": {
   "display_name": "Python 3",
   "language": "python",
   "name": "python3"
  },
  "language_info": {
   "codemirror_mode": {
    "name": "ipython",
    "version": 3
   },
   "file_extension": ".py",
   "mimetype": "text/x-python",
   "name": "python",
   "nbconvert_exporter": "python",
   "pygments_lexer": "ipython3",
   "version": "3.7.6"
  }
 },
 "nbformat": 4,
 "nbformat_minor": 4
}
